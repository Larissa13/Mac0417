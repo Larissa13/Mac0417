{
 "cells": [
  {
   "cell_type": "code",
   "execution_count": 52,
   "metadata": {
    "collapsed": false
   },
   "outputs": [],
   "source": [
    "import numpy as np\n",
    "from vpi.io import *\n",
    "from collections import *"
   ]
  },
  {
   "cell_type": "code",
   "execution_count": 53,
   "metadata": {
    "collapsed": false
   },
   "outputs": [],
   "source": [
    "def neighbors_8(f, pto):\n",
    "    list_of_neighbors = []\n",
    "    n1, n2 = f.shape\n",
    "    if (pto[0] - 1) >= 0:\n",
    "        list_of_neighbors.append((pto[0]-1, pto[1]))\n",
    "        if (pto[1] -1) >=0:\n",
    "            list_of_neighbors.append((pto[0]-1, pto[1]-1))\n",
    "        if (pto[1] + 1) < n2:\n",
    "            list_of_neighbors.append((pto[0]-1, pto[1]+1))\n",
    "    if (pto[1] - 1) >= 0:\n",
    "        list_of_neighbors.append((pto[0], pto[1]-1))\n",
    "        if (pto[0] + 1) < n1:\n",
    "            list_of_neighbors.append((pto[0]+1, pto[1]-1))\n",
    "    if (pto[0] + 1) < n1:\n",
    "        list_of_neighbors.append((pto[0]+1, pto[1]))\n",
    "        if (pto[1] + 1) < n2:\n",
    "            list_of_neighbors.append((pto[0]+1, pto[1]+1))\n",
    "    if (pto[1] + 1) < n2:\n",
    "        list_of_neighbors.append((pto[0], pto[1]+1))\n",
    "    return list_of_neighbors           "
   ]
  },
  {
   "cell_type": "code",
   "execution_count": 80,
   "metadata": {
    "collapsed": false
   },
   "outputs": [],
   "source": [
    "def labeling(f, color):\n",
    "    g = np.zeros(f.shape)\n",
    "    label = 0\n",
    "    queue = deque()\n",
    "    for i in range(f.shape[0]):\n",
    "        for j in range(f.shape[1]):\n",
    "            if (f[i,j] == color and g[i,j] == 0):\n",
    "                queue.append((i,j)) #insere no lado direito\n",
    "                label = label + 1 \n",
    "                g[i,j] = label\n",
    "                while queue:\n",
    "                    proximo = queue.popleft() #remove no lado esquerdo\n",
    "                    for n in neighbors_8(f, proximo):\n",
    "                        if (f[n] == color and g[n] == 0):\n",
    "                            g[n] = label\n",
    "                            queue.append(n)           \n",
    "    return g"
   ]
  },
  {
   "cell_type": "code",
   "execution_count": 96,
   "metadata": {
    "collapsed": true
   },
   "outputs": [],
   "source": [
    "# questão 5\n",
    "def count_holes(f):\n",
    "    g = labeling(f, 255)\n",
    "    display_image(g)\n",
    "    holes = g.max() -1\n",
    "    h = labeling(f, 0)\n",
    "    display_image(h)\n",
    "    no_holes = h.max() - holes\n",
    "    print(holes)\n",
    "    print (no_holes)\n"
   ]
  },
  {
   "cell_type": "code",
   "execution_count": null,
   "metadata": {
    "collapsed": false
   },
   "outputs": [],
   "source": [
    "f = read_image(\"images/pecas_img.png\")\n",
    "print(f.max())\n",
    "display_image(f)"
   ]
  },
  {
   "cell_type": "code",
   "execution_count": null,
   "metadata": {
    "collapsed": false
   },
   "outputs": [],
   "source": [
    "count_holes(f)"
   ]
  }
 ],
 "metadata": {
  "kernelspec": {
   "display_name": "Python 3",
   "language": "python",
   "name": "python3"
  },
  "language_info": {
   "codemirror_mode": {
    "name": "ipython",
    "version": 3
   },
   "file_extension": ".py",
   "mimetype": "text/x-python",
   "name": "python",
   "nbconvert_exporter": "python",
   "pygments_lexer": "ipython3",
   "version": "3.5.1"
  }
 },
 "nbformat": 4,
 "nbformat_minor": 0
}
