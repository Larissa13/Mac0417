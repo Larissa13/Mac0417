{
 "cells": [
  {
   "cell_type": "markdown",
   "metadata": {},
   "source": [
    "# Exercício Programa 02 - Xadrez"
   ]
  },
  {
   "cell_type": "markdown",
   "metadata": {},
   "source": [
    "<p>\n",
    "    Um grupo de enxadresistas possui um conjunto de partidas armazenados como imagens e deseja criar um sistema para extrair as jogadas de cada partida para análise. Esse grupo deseja saber o movimento feito em cada rodada, ou seja, a peça movida da casa $x$ para a casa $y$. O grupo já tem programado a estrutura que deseja utilizar e que já foi colocado no arquivo \"chess/chess.py\". Este arquivo contém as seguintes classes:\n",
    "<ul>\n",
    "    <li><strong>ChessSquare</strong>: Classe que representa uma casa do tabuleiro do Xadrez.</li>\n",
    "    <li>Atributos</li>\n",
    "    <ul>\n",
    "        <li><strong>piece_name: </strong> String de identificação da peça.\n",
    "        <li><strong>x: </strong> Índice horizontal da peça no tabuleiro (0 ... 7)\n",
    "        <li><strong>y: </strong> Índice vertical da peça no tabuleiro (0 ... 7)\n",
    "    </ul>\n",
    "</ul>\n",
    "<ul>\n",
    "    <li><strong>Move</strong>: Classe que representa uma jogada</li>\n",
    "    <li>Atributos</li>\n",
    "    <ul>\n",
    "        <li><strong>image_filepath: </strong> caminho do arquivo de imagem da jogada.\n",
    "        <li><strong>piece_start: </strong> ChessSquare da peça antes da jogada.\n",
    "        <li><strong>piece_stop: </strong> ChessSquare da peça depois da jogada.\n",
    "     </ul>\n",
    "</ul>\n",
    "<ul>\n",
    "    <li><strong>Chessboard: </strong> Classe que representa o tabuleiro de xadrez.</li>\n",
    "    <li>Atributos</li>\n",
    "    <ul>\n",
    "        <li><strong>board: </strong> vetor de ChessSquare, que armazema todas as casas do tabuleiro de xadrez.</li>\n",
    "        <li><strong>template: </strong> matriz que representa o tabuleiro em seu estado inicial.</li>\n",
    "    </ul>\n",
    "    <li>Métodos</li>\n",
    "    <ul>\n",
    "        <li><strong>_init_board: </strong> Método que inicializa o tabuleiro com as posições iniciais de cada peça. </li>\n",
    "        <li><strong>set_piece: </strong> recebe uma string (piece_name) e coloca essa string na posição (\"x\", \"y\") do tauleiro. Onde piece_name é qualquer string de identificação de peça válido ou a string vazia \"\" (representa casa vazia).</li>\n",
    "        <li><strong>print_board: </strong> Método que imprime o tabuleiro no console com string de identificação para cada casa. (Uso para debug).\n",
    "        <li><strong>get_flat_board: </strong> Método que retorna o tabuleiro como uma lista de ChessSquare, utilizando uma varredura de cima para baixo, da esquerda para direita.\n",
    "        </ul>\n",
    "</ul>\n",
    "<ul>\n",
    "    <li><strong>Game: </strong> Classe que representa uma partida de Xadrez</li>\n",
    "    <li>Atributos</li>\n",
    "    <ul>\n",
    "        <li><strong>moves: </strong> Lista de jogadas (objetos tipo Move) utilizado para armazenar as jogadas onde moves[i] representa a jogada i, moves[0] é a primeira jogada e moves[len(moves) - 1] é a última jogada.</li>\n",
    "    </ul>\n",
    "    <li>Métodos</li>\n",
    "    <ul>\n",
    "        <li><strong>add_move: </strong> Adiciona uma jogada na posição len(moves) e aumenta o tamanho de moves em 1.</li>\n",
    "        </ul>\n",
    "</ul>\n",
    "</p>\n",
    "<p>\n",
    "    É pedido que seja implementado a função <strong>analyze_chess_game</strong> localizada no arquivo \"chess/analyze.py\", que recebe um diretorio (no caso \"images/chess\") contendo as imagens das jogadas númeradas de $1$ a $n$, todas do tipo \".png\" (i.e. \"images/chess/5.png\" corresponde a imagem da jogada 5) e retorne um objeto Game com todas as jogadas armazenadas em seu atributo $moves$. \n",
    "</p>\n",
    "<p>    \n",
    "    As imagens nomeadas com números ímpares são jogadas de peça branca e números pares de peça preta e a imagem \"0.png\" é a posição inicial do tabuleiro (sempre será a mesma imagem), cada casa possui dimensões 60x60 pixels, as casas escuras têm intensidade $80$ e as casas claras, intensidade $180$. As peças pretas têm intensidade $0$ e as peças brancas $255$. Os identificadores das peças são definidos abaixo:</p>\n",
    "<ul>\n",
    "    <li><strong>P</strong>: Pawn (Peão)</li>\n",
    "    <li><strong>N</strong>: Knight (Cavalo)</li>\n",
    "    <li><strong>B</strong>: Bishop (Bispo)</li>\n",
    "    <li><strong>Q</strong>: Queen (Rainha)</li>\n",
    "    <li><strong>K</strong>: King (Rei)</li>      \n",
    "</ul>\n",
    "<p>Dentro da classe <em>ChessSquare</em>, no atributo <em>piece_name</em>, a string de identificação de peças recebe a abreviação descrita acima, mais uma letra \"W\"(White) para peças brancas e \"B\"(black) para peças pretas, além disso, mais um número de identificação, caso exista mais de uma mesma peça (e.g., \"NB1\" é o cavalo preto número 1, note que existem 2 cavalos pretos; \"PW5\" é o peão branco número 5, note que existem 8 peãos de cada cor). Além disso, a string de identificação de peças pode ser vazia para indicar que a casa do tabuleiro está vazia.\n",
    "</p>\n",
    "<p>\n",
    "    A configuração inicial do tabuleiro é como segue.\n",
    "    <table>\n",
    "    <tr><th></th><th>0</th><th>1</th><th>2</th><th>3</th><th>4</th><th>5</th><th>6</th><th>7</th></tr>\n",
    "    <tr><th>0</th><td>RB1</td><td>NB1</td><td>BB1</td><td>QB</td><td>KB</td><td>BB2</td><td>NB2</td><td>RB2</td></tr>\n",
    "    <tr><th>1</th><td>PB1</td><td>PB2</td><td>PB3</td><td>PB4</td><td>PB5</td><td>PB6</td><td>PB7</td><td>PB8</td></tr>\n",
    "    <tr><th>2</th><td></td><td></td><td></td><td></td><td></td><td></td><td></td><td></td></tr>\n",
    "    <tr><th>3</th><td></td><td></td><td></td><td></td><td></td><td></td><td></td><td></td></tr>\n",
    "    <tr><th>4</th><td></td><td></td><td></td><td></td><td></td><td></td><td></td><td></td></tr>\n",
    "    <tr><th>5</th><td></td><td></td><td></td><td></td><td></td><td></td><td></td><td></td></tr>\n",
    "    <tr><th>6</th><td>PW1</td><td>PW2</td><td>PW3</td><td>PW4</td><td>PW5</td><td>PW6</td><td>PW7</td><td>PW8</td></tr>\n",
    "    <tr><th>7</th><td>RW1</td><td>NW1</td><td>BW1</td><td>QW</td><td>KW</td><td>BW2</td><td>NW2</td><td>RW2</td></tr>\n",
    "  </table>\n",
    "</p><p>\n",
    "  A cada nova imagem, seu algoritmo deve registrar em um objeto <em>Move</em>, no atributo <em>piece_start</em>, um objeto <em>ChessSquare</em>, com a seguintes informações: </p>\n",
    "  <ul>\n",
    "    <li>string de identificação da peça movida;</li>\n",
    "    <li>a posição inicial da peça movida (posição da peça movida na jogada anterior)</li>\n",
    "  </ul>\n",
    "  <p> e no atributo <em>piece_stop</em>, um objeto <em>ChessSquare</em>, com a seguintes informações: </p>\n",
    "  <ul>\n",
    "    <li>a string vazia, se a peça não capturou nenhuma peça adversária, ou identificação da peça capturada, caso contrário;</li>\n",
    "    <li>a posição da peça depois da jogada conforme imagem sendo analisada.</li>\n",
    "  </ul>\n",
    "  <p>Além disso, no atributo <em>image_filepath</em>, o caminho do arquivo da imagem sendo analisada. Finalmente, \n",
    "o objeto <em>Move</em> deve ser armazenado no objeto <em>Game</em>.</p>\n",
    "</p><p> Teste seu código com nesse ipython notebook. O resultado esperado de seu ipython notebook está no arquivo \"[view_game.html](./view_game.html)\" (Note que seu código será testado com outro conjunto de imagens).\n",
    "\n",
    "Lembrando que você deve utilizar os algoritmos visto em aula para resolver esse problema. Fique à vontade em acrescentar novas classes e funções que achar necessário. Para fazer perguntas ou comentários, utilize o forum do PACA ou email do monitor.\n",
    "</p>"
   ]
  },
  {
   "cell_type": "code",
   "execution_count": null,
   "metadata": {
    "collapsed": true
   },
   "outputs": [],
   "source": []
  },
  {
   "cell_type": "code",
   "execution_count": 1,
   "metadata": {
    "collapsed": false
   },
   "outputs": [
    {
     "data": {
      "image/png": "[encoded data removed]",
      "text/plain": [
       "<IPython.core.display.Image object>"
      ]
     },
     "metadata": {},
     "output_type": "display_data"
    },
    {
     "data": {
      "image/png": "[encoded data removed]",
      "text/plain": [
       "<IPython.core.display.Image object>"
      ]
     },
     "metadata": {},
     "output_type": "display_data"
    },
    {
     "data": {
      "image/png": "[encoded data removed]",
      "text/plain": [
       "<IPython.core.display.Image object>"
      ]
     },
     "metadata": {},
     "output_type": "display_data"
    },
    {
     "data": {
      "image/png": "[encoded data removed]",
      "text/plain": [
       "<IPython.core.display.Image object>"
      ]
     },
     "metadata": {},
     "output_type": "display_data"
    },
    {
     "data": {
      "image/png": "[encoded data removed]",
      "text/plain": [
       "<IPython.core.display.Image object>"
      ]
     },
     "metadata": {},
     "output_type": "display_data"
    },
    {
     "data": {
      "image/png": "[encoded data removed]",
      "text/plain": [
       "<IPython.core.display.Image object>"
      ]
     },
     "metadata": {},
     "output_type": "display_data"
    },
    {
     "data": {
      "image/png": "[encoded data removed]",
      "text/plain": [
       "<IPython.core.display.Image object>"
      ]
     },
     "metadata": {},
     "output_type": "display_data"
    },
    {
     "data": {
      "image/png": "[encoded data removed]",
      "text/plain": [
       "<IPython.core.display.Image object>"
      ]
     },
     "metadata": {},
     "output_type": "display_data"
    },
    {
     "data": {
      "image/png": "[encoded data removed]",
      "text/plain": [
       "<IPython.core.display.Image object>"
      ]
     },
     "metadata": {},
     "output_type": "display_data"
    },
    {
     "data": {
      "image/png": "[encoded data removed]",
      "text/plain": [
       "<IPython.core.display.Image object>"
      ]
     },
     "metadata": {},
     "output_type": "display_data"
    },
    {
     "data": {
      "image/png": "[encoded data removed]",
      "text/plain": [
       "<IPython.core.display.Image object>"
      ]
     },
     "metadata": {},
     "output_type": "display_data"
    },
    {
     "data": {
      "image/png": "[encoded data removed]",
      "text/plain": [
       "<IPython.core.display.Image object>"
      ]
     },
     "metadata": {},
     "output_type": "display_data"
    },
    {
     "data": {
      "image/png": "[encoded data removed]",
      "text/plain": [
       "<IPython.core.display.Image object>"
      ]
     },
     "metadata": {},
     "output_type": "display_data"
    },
    {
     "data": {
      "image/png": "[encoded data removed]",
      "text/plain": [
       "<IPython.core.display.Image object>"
      ]
     },
     "metadata": {},
     "output_type": "display_data"
    },
    {
     "data": {
      "image/png": "[encoded data removed]",
      "text/plain": [
       "<IPython.core.display.Image object>"
      ]
     },
     "metadata": {},
     "output_type": "display_data"
    },
    {
     "data": {
      "image/png": "[encoded data removed]",
      "text/plain": [
       "<IPython.core.display.Image object>"
      ]
     },
     "metadata": {},
     "output_type": "display_data"
    },
    {
     "data": {
      "image/png": "[encoded data removed]",
      "text/plain": [
       "<IPython.core.display.Image object>"
      ]
     },
     "metadata": {},
     "output_type": "display_data"
    },
    {
     "data": {
      "image/png": "[encoded data removed]",
      "text/plain": [
       "<IPython.core.display.Image object>"
      ]
     },
     "metadata": {},
     "output_type": "display_data"
    },
    {
     "data": {
      "image/png": "[encoded data removed]",
      "text/plain": [
       "<IPython.core.display.Image object>"
      ]
     },
     "metadata": {},
     "output_type": "display_data"
    },
    {
     "data": {
      "image/png": "[encoded data removed]",
      "text/plain": [
       "<IPython.core.display.Image object>"
      ]
     },
     "metadata": {},
     "output_type": "display_data"
    },
    {
     "data": {
      "image/png": "[encoded data removed]",
      "text/plain": [
       "<IPython.core.display.Image object>"
      ]
     },
     "metadata": {},
     "output_type": "display_data"
    },
    {
     "data": {
      "image/png": "[encoded data removed]",
      "text/plain": [
       "<IPython.core.display.Image object>"
      ]
     },
     "metadata": {},
     "output_type": "display_data"
    },
    {
     "data": {
      "image/png": "[encoded data removed]",
      "text/plain": [
       "<IPython.core.display.Image object>"
      ]
     },
     "metadata": {},
     "output_type": "display_data"
    },
    {
     "data": {
      "image/png": "[encoded data removed]",
      "text/plain": [
       "<IPython.core.display.Image object>"
      ]
     },
     "metadata": {},
     "output_type": "display_data"
    },
    {
     "data": {
      "image/png": "[encoded data removed]",
      "text/plain": [
       "<IPython.core.display.Image object>"
      ]
     },
     "metadata": {},
     "output_type": "display_data"
    },
    {
     "data": {
      "image/png": "[encoded data removed]",
      "text/plain": [
       "<IPython.core.display.Image object>"
      ]
     },
     "metadata": {},
     "output_type": "display_data"
    },
    {
     "data": {
      "image/png": "[encoded data removed]",
      "text/plain": [
       "<IPython.core.display.Image object>"
      ]
     },
     "metadata": {},
     "output_type": "display_data"
    }
   ],
   "source": [
    "from IPython.display import Image, display\n",
    "from chess.analyze import analyze_chess_game\n",
    "game = analyze_chess_game(\"images/chess\")\n",
    "\n",
    "\n",
    "for move in game.moves:\n",
    "        pstart = move.piece_start\n",
    "        pstop = move.piece_stop\n",
    "        text = pstart.piece_name + \" moves from \" + str((pstart.x, pstart.y))\n",
    "        text += \" to \" + str((pstop.x, pstop.y))\n",
    "\n",
    "        if pstop.piece_name is not \"\":\n",
    "            text += \" and captures \" + pstop.piece_name\n",
    "        text += \"\\n\"    \n",
    "        display(Image(filename=move.image_filepath))\n",
    "        print(text)"
   ]
  },
  {
   "cell_type": "code",
   "execution_count": null,
   "metadata": {
    "collapsed": true
   },
   "outputs": [],
   "source": []
  }
 ],
 "metadata": {
  "kernelspec": {
   "display_name": "Python 3",
   "language": "python",
   "name": "python3"
  },
  "language_info": {
   "codemirror_mode": {
    "name": "ipython",
    "version": 3
   },
   "file_extension": ".py",
   "mimetype": "text/x-python",
   "name": "python",
   "nbconvert_exporter": "python",
   "pygments_lexer": "ipython3",
   "version": "3.5.1"
  }
 },
 "nbformat": 4,
 "nbformat_minor": 0
}
