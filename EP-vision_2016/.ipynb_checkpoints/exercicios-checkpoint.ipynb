{
 "cells": [
  {
   "cell_type": "code",
   "execution_count": 87,
   "metadata": {
    "collapsed": true
   },
   "outputs": [],
   "source": [
    "# Nome: Larissa de Oliveira Penteado\n",
    "# NUSP: 8941338\n",
    "from vpi.io import *\n",
    "import numpy as np"
   ]
  },
  {
   "cell_type": "markdown",
   "metadata": {},
   "source": [
    "# Exercícios"
   ]
  },
  {
   "cell_type": "markdown",
   "metadata": {},
   "source": [
    "<p> <strong>1. </strong> Encontre a profundidade das imagens localizadas em \"images/depth-1.tif\", \"images/depth-2.tif\", \"images/depth-3.tif\", justificando sua resposta com código python.</p>"
   ]
  },
  {
   "cell_type": "code",
   "execution_count": 88,
   "metadata": {
    "collapsed": false
   },
   "outputs": [
    {
     "name": "stdout",
     "output_type": "stream",
     "text": [
      "Tipo de dados de depth-1.tif =  uint8\n",
      "Tipo de dados de depth-2.tif =  uint32\n",
      "Tipo de dados de depth-3.tif =  uint16\n"
     ]
    }
   ],
   "source": [
    "# Entre com seu código aqui\n",
    "f = read_image(\"images/depth-1.tif\")\n",
    "g = read_image(\"images/depth-2.tif\")\n",
    "h = read_image(\"images/depth-3.tif\")\n",
    "#o tipo da variável nos mostra com quantos bits ela é representada na memória\n",
    "# deste modo, basta descobrirmos o tipo dela a partir da função dtype do numpy\n",
    "# logo, se for uintx significa que possui x bits, e 2 ^ x níveis de cinza\n",
    "df = f.dtype\n",
    "dg = g.dtype\n",
    "dh = h.dtype\n",
    "print(\"Tipo de dados de depth-1.tif = \", df)\n",
    "print(\"Tipo de dados de depth-2.tif = \", dg)\n",
    "print(\"Tipo de dados de depth-3.tif = \", dh)\n"
   ]
  },
  {
   "cell_type": "markdown",
   "metadata": {},
   "source": [
    "<p><strong>Resp.:</strong><p> Profundidade da primeira imagem = 8 bits, 256 níveis de cinza.</p>\n",
    "<p> Profundidade da segunda imagem = 32 bits, 4294967296 níveis de cinza. </p>\n",
    "<p> Profundidade da terceira imagem = 16 bits, 65536 níveis de cinza. </p> </p>\n"
   ]
  },
  {
   "cell_type": "markdown",
   "metadata": {},
   "source": [
    "<p> <strong>2. </strong> Encontre a resolução espacial das imagens \"images/resolution-1.tif\", \"images/resolution-2.tif\" e \"images/resolution-3.tif\". Justifique sua resposta com código em Python. </p>"
   ]
  },
  {
   "cell_type": "code",
   "execution_count": 89,
   "metadata": {
    "collapsed": false
   },
   "outputs": [
    {
     "name": "stdout",
     "output_type": "stream",
     "text": [
      "Resolução de f =  128 x 128\n",
      "Resolução de g =  64 x 64\n",
      "Resolução de h =  256 x 256\n"
     ]
    }
   ],
   "source": [
    "# Entre com seu código aqui\n",
    "l = read_image(\"images/resolution-1.tif\")\n",
    "Hl, Wl = l.shape\n",
    "print(\"Resolução de f = \", Hl, \"x\", Wl)\n",
    "k = read_image(\"images/resolution-2.tif\")\n",
    "Hk, Wk = k.shape\n",
    "print(\"Resolução de g = \", Hk, \"x\", Wk)\n",
    "j = read_image(\"images/resolution-3.tif\")\n",
    "Hj, Wj = j.shape\n",
    "print(\"Resolução de h = \", Hj, \"x\", Wj)"
   ]
  },
  {
   "cell_type": "markdown",
   "metadata": {},
   "source": [
    "<p> <strong> Resp.: </strong> Resolução espacial da primeira, segunda e terceira imagens, respectivamente: 128x128 pixels, 64x64 pixels, 256x256 pixels. </p>\n"
   ]
  },
  {
   "cell_type": "markdown",
   "metadata": {},
   "source": [
    "<p> \n",
    "    <strong> 3.</strong> A classe ImageInfo armazena dados da imagem como histograma, média e desvio padrão. Na \n",
    "    implementação de seu construtor, implemente os métodos _calc_histogram que calcula o histograma e o armazena em um \n",
    "    array de inteiros, _calc_mean que calcula a média e a armazena em número real (float), _cal_standard_deviation que \n",
    "    calcula o desvio padrãoe o armazena em número real (float). \n",
    "</p>"
   ]
  },
  {
   "cell_type": "code",
   "execution_count": 90,
   "metadata": {
    "collapsed": false
   },
   "outputs": [],
   "source": [
    "class ImageInfo:\n",
    "    def __init__(self, image):\n",
    "        image_size = image.size\n",
    "        self.histogram = self._calc_histogram(image)\n",
    "        self.mean = self._calc_mean(self.histogram, image_size)\n",
    "        self.std_dev = self._calc_standard_deviation(self.histogram, self.mean, image_size)\n",
    "        \n",
    "    def _calc_histogram(self, image):\n",
    "        # Entre com seu código aqui\n",
    "        histogram = np.zeros(256).astype(int) \n",
    "        H, W = image.shape\n",
    "        for i in range(H):\n",
    "            for j in range(W):\n",
    "                histogram[image[i,j]] = histogram[image[i,j]] + 1\n",
    "        return histogram\n",
    "        \n",
    "    \n",
    "    def _calc_mean(self, hist, image_size):\n",
    "        # Entre com seu código aqui\n",
    "        mean_i = 0\n",
    "        for i in range(256):\n",
    "            mean_i = mean_i + i*hist[i]\n",
    "        mean_i = float(mean_i/image_size)\n",
    "        return mean_i\n",
    "    \n",
    "    def _calc_standard_deviation(self, hist, mean, image_size):\n",
    "        # Entre com seu código aqui\n",
    "        sd = 0\n",
    "        for i in range(256):\n",
    "            sd = sd + hist[i]*(i-mean)**2\n",
    "\n",
    "        sd = float(sd /(image_size-1))\n",
    "        sd = math.sqrt(sd)\n",
    "        return sd\n",
    "        "
   ]
  },
  {
   "cell_type": "markdown",
   "metadata": {},
   "source": [
    "<p> <strong>4. </strong>Usando um ndarray crie uma imagem com dimensão 256x256 pixels, 8-bits de profundidade, desvio padrão aproximadamente 127.5 e média 127.5.</p>"
   ]
  },
  {
   "cell_type": "code",
   "execution_count": 91,
   "metadata": {
    "collapsed": false
   },
   "outputs": [
    {
     "name": "stdout",
     "output_type": "stream",
     "text": [
      "Média: 127.5\n",
      "Desvio padrão: 127.50097275893509\n"
     ]
    },
    {
     "data": {
      "image/png": "[encoded data removed]",
      "text/plain": [
       "<IPython.core.display.Image object>"
      ]
     },
     "metadata": {},
     "output_type": "display_data"
    }
   ],
   "source": [
    "# Entre com seu código aqui\n",
    "f = np.zeros((256,256)).astype(int)\n",
    "f[1:255, 1:128] = 255\n",
    "f[0, 128:256] = 255\n",
    "f[0:255, 255] = 255\n",
    "f[255, 128:256] = 255\n",
    "info = ImageInfo(f)\n",
    "print (\"Média:\", info.mean)\n",
    "print (\"Desvio padrão:\", info.std_dev)\n",
    "display_image(f)\n"
   ]
  },
  {
   "cell_type": "markdown",
   "metadata": {},
   "source": [
    "<p> \n",
    "    <strong>5. </strong> Implemente função de transição de escalas de intensidades linear homogênia (se a função resultar um valor \n",
    "    maior que 255, ele deve ser mapeado a 255, se a função resultar um valor menor que 0, então ele deve ser mapeado ao valor 0 e \n",
    "    o valor dever ser sempre um valor inteiro obtido pela operação chão). \n",
    "    Condifique essa função em Python implementando a função 'linear' abaixo. Note que ela recebe uma constante real (float) 'k' e \n",
    "    uma imagem 'img' de profundidade 8-bits e devolve a aplicação da função na imagem.   \n",
    "</p>"
   ]
  },
  {
   "cell_type": "code",
   "execution_count": 92,
   "metadata": {
    "collapsed": false
   },
   "outputs": [],
   "source": [
    "def linear(img, k):\n",
    "    # Entre com seu código aqui\n",
    "    T1 = np.arange(256).astype('uint8')\n",
    "    T2 = k*T1\n",
    "    T2 = np.clip(T2, 0, 255)\n",
    "    img = np.floor(T2[img])\n",
    "    return img\n"
   ]
  },
  {
   "cell_type": "markdown",
   "metadata": {},
   "source": [
    "<p> \n",
    "    <strong>6. </strong>  Implemente a função 'show_transform_linear_filtered_image' que exibe a imagem filtrada pela função \n",
    "    'linear' implementada no <strong>exercício 5</strong> e com valor constante 'k' recebida pela função <strong>interact</strong>, assim como o \n",
    "    histograma da imagem com intensidades transformada. E responda qual a relação do valor dos atributos contraste e brilho com a \n",
    "    constante 'k'.\n",
    "</p>"
   ]
  },
  {
   "cell_type": "code",
   "execution_count": 155,
   "metadata": {
    "collapsed": false
   },
   "outputs": [
    {
     "data": {
      "image/png": "[encoded data removed]",
      "text/plain": [
       "<IPython.core.display.Image object>"
      ]
     },
     "metadata": {},
     "output_type": "display_data"
    }
   ],
   "source": [
    "import matplotlib.pyplot as plt\n",
    "from IPython.html.widgets import interact\n",
    "import matplotlib\n",
    "%matplotlib inline \n",
    "\n",
    "def show_transform_linear_filtered_image(k):\n",
    "    # Entre com seu código aqui \n",
    "    f = read_image(\"images/clown.tif\")\n",
    "    img_t = linear (f,k)\n",
    "    display_image(img_t)\n",
    "interact(show_transform_linear_filtered_image, k=(0.0,2.0), step=0.05)"
   ]
  },
  {
   "cell_type": "markdown",
   "metadata": {},
   "source": [
    "<p> <strong>Resp.: </strong> Conforme o K aumenta, o brilho aumenta e o constraste também. Por outro lado, quando k diminui\n",
    " o brilho e o contraste diminuem</p>\n"
   ]
  },
  {
   "cell_type": "markdown",
   "metadata": {},
   "source": [
    "<p>\n",
    "    <strong>7.</strong> Escreva a função de transição de intensidade de equilização de histograma visto em aula (onde smax = a \n",
    "    intensidade maxíma da imagem) para uma imagem de profundidade 8-bits, implementando as funções 'calc_rel_hist' que calcula o histograma relativo, 'calc_acc_rel_hist' que calcula o histograma relativo acumulado e 'calc_equalize_transformation' que calcula a imagem transformada pela equalização de histograma. \n",
    "</p>"
   ]
  },
  {
   "cell_type": "code",
   "execution_count": 153,
   "metadata": {
    "collapsed": false
   },
   "outputs": [],
   "source": [
    "def calc_rel_hist(info, f):    \n",
    "    # Entre com seu código aqui\n",
    "    rela_hist = np.zeros(256).astype(float)\n",
    "    for i in range(256):\n",
    "        rela_hist[i] = float(info.histogram[i]/f.size)\n",
    "    return rela_hist\n",
    "\n",
    "def calc_acc_rel_hist(freq):\n",
    "    # Entre com seu código aqui\n",
    "    ar_hist = np.zeros(256).astype(float)\n",
    "    ar_hist[0] = freq[0]\n",
    "    for i in range(1,256):\n",
    "        ar_hist[i] = ar_hist[i-1] + freq[i]\n",
    "    return ar_hist\n",
    "    \n",
    "\n",
    "def calc_equalize_transformation(acc_rel_hist, max_grayscale = 255):\n",
    "    # Entre com seu código aqui\n",
    "    T =  np.floor(acc_rel_hist*max_grayscale).astype(int)\n",
    "    return T\n",
    "    \n",
    "def equalize(f):\n",
    "    info = ImageInfo(f)\n",
    "    rel_hist = calc_rel_hist(info, f)\n",
    "    acc_rel_hist = calc_acc_rel_hist(rel_hist)\n",
    "    T = calc_equalize_transformation(acc_rel_hist)\n",
    "    return T[f]"
   ]
  },
  {
   "cell_type": "markdown",
   "metadata": {},
   "source": [
    "<p> \n",
    "    <strong>8. </strong> As imagens 'images/hidden_message-1.tif' e 'images/hidden_message-2.tif' possuem \n",
    "    mensagens escondidas. Utilize o conteúdo apresentado na disciplina e encontre as mensagens escondidas.  \n",
    "</p>"
   ]
  },
  {
   "cell_type": "code",
   "execution_count": 154,
   "metadata": {
    "collapsed": false
   },
   "outputs": [
    {
     "data": {
      "image/png": "[encoded data removed]",
      "text/plain": [
       "<IPython.core.display.Image object>"
      ]
     },
     "metadata": {},
     "output_type": "display_data"
    },
    {
     "data": {
      "image/png": "[encoded data removed]",
      "text/plain": [
       "<IPython.core.display.Image object>"
      ]
     },
     "metadata": {},
     "output_type": "display_data"
    },
    {
     "data": {
      "image/png": "[encoded data removed]",
      "text/plain": [
       "<IPython.core.display.Image object>"
      ]
     },
     "metadata": {},
     "output_type": "display_data"
    },
    {
     "data": {
      "image/png": "[encoded data removed]",
      "text/plain": [
       "<IPython.core.display.Image object>"
      ]
     },
     "metadata": {},
     "output_type": "display_data"
    }
   ],
   "source": [
    "hidden_message1 = read_image('images/hidden_message-1.tif')\n",
    "hidden_message2 = read_image('images/hidden_message-2.tif')\n",
    "display_image(hidden_message1)\n",
    "display_image(hidden_message2)\n",
    "# Entre com seu código aqui\n",
    "not_hidden_anymore1 = equalize(hidden_message1)\n",
    "display_image(not_hidden_anymore1)\n",
    "not_hidden_anymore2 = equalize(hidden_message2)\n",
    "display_image(not_hidden_anymore2)\n"
   ]
  },
  {
   "cell_type": "markdown",
   "metadata": {},
   "source": [
    "<p> <strong>Resp.: </strong> <p> Visao e Proc. de Imagens</p>\n",
    "<p> IME - USP</p> </p>\n"
   ]
  }
 ],
 "metadata": {
  "kernelspec": {
   "display_name": "Python 3",
   "language": "python",
   "name": "python3"
  },
  "language_info": {
   "codemirror_mode": {
    "name": "ipython",
    "version": 3
   },
   "file_extension": ".py",
   "mimetype": "text/x-python",
   "name": "python",
   "nbconvert_exporter": "python",
   "pygments_lexer": "ipython3",
   "version": "3.5.1"
  }
 },
 "nbformat": 4,
 "nbformat_minor": 0
}
