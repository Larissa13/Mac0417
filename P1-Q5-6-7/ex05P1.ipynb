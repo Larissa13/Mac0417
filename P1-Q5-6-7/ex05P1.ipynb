{
 "cells": [
  {
   "cell_type": "code",
   "execution_count": 24,
   "metadata": {
    "collapsed": false
   },
   "outputs": [],
   "source": [
    "import numpy as np\n",
    "from vpi.io import *\n",
    "from collections import *\n",
    "import math"
   ]
  },
  {
   "cell_type": "code",
   "execution_count": 25,
   "metadata": {
    "collapsed": false
   },
   "outputs": [],
   "source": [
    "class ImageInfo:\n",
    "    def __init__(self, image):\n",
    "        image_size = image.size\n",
    "        self.histogram = self._calc_histogram(image)\n",
    "        self.mean = self._calc_mean(self.histogram, image_size)\n",
    "        self.std_dev = self._calc_standard_deviation(self.histogram, self.mean, image_size)\n",
    "        \n",
    "    def _calc_histogram(self, image):\n",
    "        # Entre com seu código aqui\n",
    "        histogram = np.zeros(256).astype(int) \n",
    "        H, W = image.shape\n",
    "        for i in range(H):\n",
    "            for j in range(W):\n",
    "                histogram[image[i,j]] = histogram[image[i,j]] + 1\n",
    "        return histogram\n",
    "        \n",
    "    \n",
    "    def _calc_mean(self, hist, image_size):\n",
    "        # Entre com seu código aqui\n",
    "        mean_i = 0\n",
    "        for i in range(256):\n",
    "            mean_i = mean_i + i*hist[i]\n",
    "        mean_i = float(mean_i/image_size)\n",
    "        return mean_i\n",
    "    \n",
    "    def _calc_standard_deviation(self, hist, mean, image_size):\n",
    "        # Entre com seu código aqui\n",
    "        sd = 0\n",
    "        for i in range(256):\n",
    "            sd = sd + hist[i]*(i-mean)**2\n",
    "\n",
    "        sd = float(sd /(image_size-1))\n",
    "        sd = math.sqrt(sd)\n",
    "        return sd\n",
    "    \n",
    "def calc_rel_hist(info, f):    \n",
    "    # Entre com seu código aqui\n",
    "    rela_hist = np.zeros(256).astype(float)\n",
    "    for i in range(256):\n",
    "        rela_hist[i] = float(info.histogram[i]/f.size)\n",
    "    return rela_hist\n",
    "\n",
    "def calc_acc_rel_hist(freq):\n",
    "    # Entre com seu código aqui\n",
    "    ar_hist = np.zeros(256).astype(float)\n",
    "    ar_hist[0] = freq[0]\n",
    "    for i in range(1,256):\n",
    "        ar_hist[i] = ar_hist[i-1] + freq[i]\n",
    "    return ar_hist\n",
    "    \n",
    "\n",
    "def calc_equalize_transformation(acc_rel_hist, max_grayscale = 255):\n",
    "    # Entre com seu código aqui\n",
    "    T =  np.floor(acc_rel_hist*max_grayscale).astype(int)\n",
    "    return T\n",
    "    \n",
    "def equalize(f):\n",
    "    info = ImageInfo(f)\n",
    "    rel_hist = calc_rel_hist(info, f)\n",
    "    acc_rel_hist = calc_acc_rel_hist(rel_hist)\n",
    "    T = calc_equalize_transformation(acc_rel_hist)\n",
    "    return T[f]"
   ]
  },
  {
   "cell_type": "code",
   "execution_count": 26,
   "metadata": {
    "collapsed": false
   },
   "outputs": [],
   "source": [
    "def neighbors_8(f, pto):\n",
    "    list_of_neighbors = []\n",
    "    n1, n2 = f.shape\n",
    "    if (pto[0] - 1) >= 0:\n",
    "        list_of_neighbors.append((pto[0]-1, pto[1]))\n",
    "        if (pto[1] -1) >=0:\n",
    "            list_of_neighbors.append((pto[0]-1, pto[1]-1))\n",
    "        if (pto[1] + 1) < n2:\n",
    "            list_of_neighbors.append((pto[0]-1, pto[1]+1))\n",
    "    if (pto[1] - 1) >= 0:\n",
    "        list_of_neighbors.append((pto[0], pto[1]-1))\n",
    "        if (pto[0] + 1) < n1:\n",
    "            list_of_neighbors.append((pto[0]+1, pto[1]-1))\n",
    "    if (pto[0] + 1) < n1:\n",
    "        list_of_neighbors.append((pto[0]+1, pto[1]))\n",
    "        if (pto[1] + 1) < n2:\n",
    "            list_of_neighbors.append((pto[0]+1, pto[1]+1))\n",
    "    if (pto[1] + 1) < n2:\n",
    "        list_of_neighbors.append((pto[0], pto[1]+1))\n",
    "    return list_of_neighbors           "
   ]
  },
  {
   "cell_type": "code",
   "execution_count": 32,
   "metadata": {
    "collapsed": false
   },
   "outputs": [],
   "source": [
    "def labeling(f, color):\n",
    "    g = np.zeros(f.shape).astype(int)\n",
    "    label = 0\n",
    "    queue = deque()\n",
    "    lari = []\n",
    "    for i in range(f.shape[0]):\n",
    "        for j in range(f.shape[1]):\n",
    "            if (f[i,j] == color and g[i,j] == 0):\n",
    "                queue.append((i,j)) #insere no lado direito\n",
    "                label = label + 1 \n",
    "                lari += [(i, j)]\n",
    "                g[i,j] = label\n",
    "                while queue:\n",
    "                    proximo = queue.popleft() #remove no lado esquerdo\n",
    "                    for n in neighbors_8(f, proximo):\n",
    "                        if (f[n] == color and g[n] == 0):\n",
    "                            g[n] = label\n",
    "                            queue.append(n)           \n",
    "    print (lari)\n",
    "    return g"
   ]
  },
  {
   "cell_type": "code",
   "execution_count": 33,
   "metadata": {
    "collapsed": true
   },
   "outputs": [],
   "source": [
    "# questão 5\n",
    "def count_holes(f):\n",
    "    g = labeling(f, 255)\n",
    "    display_image(g)\n",
    "    holes = g.max() - 1\n",
    "    h = labeling(f, 0)\n",
    "    display_image(h)\n",
    "    no_holes = h.max() - holes\n",
    "    display_image(equalize(h))\n",
    "    print(h.max())\n",
    "    print(holes)\n",
    "    print (no_holes)\n"
   ]
  },
  {
   "cell_type": "code",
   "execution_count": 36,
   "metadata": {
    "collapsed": false
   },
   "outputs": [
    {
     "data": {
      "image/png": "[encoded data removed]",
      "text/plain": [
       "<IPython.core.display.Image object>"
      ]
     },
     "metadata": {},
     "output_type": "display_data"
    }
   ],
   "source": [
    "f = read_image(\"images/pecas_img.png\")\n",
    "display_image(f)"
   ]
  },
  {
   "cell_type": "code",
   "execution_count": 37,
   "metadata": {
    "collapsed": false
   },
   "outputs": [
    {
     "name": "stdout",
     "output_type": "stream",
     "text": [
      "[(0, 0), (76, 206), (215, 258), (239, 766), (501, 288), (525, 775)]\n"
     ]
    },
    {
     "data": {
      "image/png": "[encoded data removed]",
      "text/plain": [
       "<IPython.core.display.Image object>"
      ]
     },
     "metadata": {},
     "output_type": "display_data"
    },
    {
     "name": "stdout",
     "output_type": "stream",
     "text": [
      "[(5, 582), (7, 866), (29, 230), (78, 766), (83, 404), (196, 240), (219, 781), (227, 6), (291, 289), (292, 446), (327, 651), (469, 226), (496, 859), (498, 7), (558, 485)]\n"
     ]
    },
    {
     "data": {
      "image/png": "[encoded data removed]",
      "text/plain": [
       "<IPython.core.display.Image object>"
      ]
     },
     "metadata": {},
     "output_type": "display_data"
    },
    {
     "data": {
      "image/png": "[encoded data removed]",
      "text/plain": [
       "<IPython.core.display.Image object>"
      ]
     },
     "metadata": {},
     "output_type": "display_data"
    },
    {
     "name": "stdout",
     "output_type": "stream",
     "text": [
      "15\n",
      "5\n",
      "10\n"
     ]
    }
   ],
   "source": [
    "count_holes(f)"
   ]
  },
  {
   "cell_type": "code",
   "execution_count": null,
   "metadata": {
    "collapsed": true
   },
   "outputs": [],
   "source": []
  }
 ],
 "metadata": {
  "kernelspec": {
   "display_name": "Python 3",
   "language": "python",
   "name": "python3"
  },
  "language_info": {
   "codemirror_mode": {
    "name": "ipython",
    "version": 3
   },
   "file_extension": ".py",
   "mimetype": "text/x-python",
   "name": "python",
   "nbconvert_exporter": "python",
   "pygments_lexer": "ipython3",
   "version": "3.5.1"
  }
 },
 "nbformat": 4,
 "nbformat_minor": 0
}
